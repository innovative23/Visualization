{
 "cells": [
  {
   "cell_type": "markdown",
   "id": "f030d951",
   "metadata": {
    "papermill": {
     "duration": 0.007647,
     "end_time": "2025-03-15T21:04:14.582198",
     "exception": false,
     "start_time": "2025-03-15T21:04:14.574551",
     "status": "completed"
    },
    "tags": []
   },
   "source": [
    "In this exercise, you will use your new knowledge to propose a solution to a real-world scenario.  To succeed, you will need to import data into Python, answer questions using the data, and generate **scatter plots** to understand patterns in the data.\n",
    "\n",
    "## Scenario\n",
    "\n",
    "You work for a major candy producer, and your goal is to write a report that your company can use to guide the design of its next product.  Soon after starting your research, you stumble across this [very interesting dataset](https://fivethirtyeight.com/features/the-ultimate-halloween-candy-power-ranking/) containing results from a fun survey to crowdsource favorite candies.\n",
    "\n",
    "## Setup\n",
    "\n",
    "Run the next cell to import and configure the Python libraries that you need to complete the exercise."
   ]
  },
  {
   "cell_type": "code",
   "execution_count": 1,
   "id": "87fbb9ca",
   "metadata": {
    "execution": {
     "iopub.execute_input": "2025-03-15T21:04:14.598176Z",
     "iopub.status.busy": "2025-03-15T21:04:14.597734Z",
     "iopub.status.idle": "2025-03-15T21:04:17.374348Z",
     "shell.execute_reply": "2025-03-15T21:04:17.373188Z"
    },
    "papermill": {
     "duration": 2.786741,
     "end_time": "2025-03-15T21:04:17.376248",
     "exception": false,
     "start_time": "2025-03-15T21:04:14.589507",
     "status": "completed"
    },
    "tags": []
   },
   "outputs": [
    {
     "name": "stdout",
     "output_type": "stream",
     "text": [
      "Setup Complete\n"
     ]
    }
   ],
   "source": [
    "import pandas as pd\n",
    "pd.plotting.register_matplotlib_converters()\n",
    "import matplotlib.pyplot as plt\n",
    "%matplotlib inline\n",
    "import seaborn as sns\n",
    "print(\"Setup Complete\")"
   ]
  },
  {
   "cell_type": "markdown",
   "id": "6596cbea",
   "metadata": {
    "papermill": {
     "duration": 0.00686,
     "end_time": "2025-03-15T21:04:17.390547",
     "exception": false,
     "start_time": "2025-03-15T21:04:17.383687",
     "status": "completed"
    },
    "tags": []
   },
   "source": [
    "The questions below will give you feedback on your work. Run the following cell to set up our feedback system."
   ]
  },
  {
   "cell_type": "code",
   "execution_count": 2,
   "id": "6f924650",
   "metadata": {
    "execution": {
     "iopub.execute_input": "2025-03-15T21:04:17.406149Z",
     "iopub.status.busy": "2025-03-15T21:04:17.405583Z",
     "iopub.status.idle": "2025-03-15T21:04:17.483128Z",
     "shell.execute_reply": "2025-03-15T21:04:17.481855Z"
    },
    "papermill": {
     "duration": 0.087274,
     "end_time": "2025-03-15T21:04:17.484885",
     "exception": false,
     "start_time": "2025-03-15T21:04:17.397611",
     "status": "completed"
    },
    "tags": []
   },
   "outputs": [
    {
     "name": "stdout",
     "output_type": "stream",
     "text": [
      "Setup Complete\n"
     ]
    }
   ],
   "source": [
    "# Set up code checking\n",
    "import os\n",
    "if not os.path.exists(\"../input/candy.csv\"):\n",
    "    os.symlink(\"../input/data-for-datavis/candy.csv\", \"../input/candy.csv\") \n",
    "from learntools.core import binder\n",
    "binder.bind(globals())\n",
    "from learntools.data_viz_to_coder.ex4 import *\n",
    "print(\"Setup Complete\")"
   ]
  },
  {
   "cell_type": "markdown",
   "id": "8dea0308",
   "metadata": {
    "papermill": {
     "duration": 0.006903,
     "end_time": "2025-03-15T21:04:17.499362",
     "exception": false,
     "start_time": "2025-03-15T21:04:17.492459",
     "status": "completed"
    },
    "tags": []
   },
   "source": [
    "## Step 1: Load the Data\n",
    "\n",
    "Read the candy data file into `candy_data`.  Use the `\"id\"` column to label the rows."
   ]
  },
  {
   "cell_type": "code",
   "execution_count": 3,
   "id": "0bdf4cb8",
   "metadata": {
    "execution": {
     "iopub.execute_input": "2025-03-15T21:04:17.514759Z",
     "iopub.status.busy": "2025-03-15T21:04:17.514419Z",
     "iopub.status.idle": "2025-03-15T21:04:17.527888Z",
     "shell.execute_reply": "2025-03-15T21:04:17.526984Z"
    },
    "papermill": {
     "duration": 0.023113,
     "end_time": "2025-03-15T21:04:17.529570",
     "exception": false,
     "start_time": "2025-03-15T21:04:17.506457",
     "status": "completed"
    },
    "tags": []
   },
   "outputs": [
    {
     "data": {
      "application/javascript": [
       "parent.postMessage({\"jupyterEvent\": \"custom.exercise_interaction\", \"data\": {\"outcomeType\": 1, \"valueTowardsCompletion\": 0.3333333333333333, \"interactionType\": 1, \"questionType\": 1, \"questionId\": \"1_LoadData\", \"learnToolsVersion\": \"0.3.4\", \"failureMessage\": \"\", \"exceptionClass\": \"\", \"trace\": \"\"}}, \"*\")"
      ],
      "text/plain": [
       "<IPython.core.display.Javascript object>"
      ]
     },
     "metadata": {},
     "output_type": "display_data"
    },
    {
     "data": {
      "text/markdown": [
       "<span style=\"color:#33cc33\">Correct</span>"
      ],
      "text/plain": [
       "Correct"
      ]
     },
     "metadata": {},
     "output_type": "display_data"
    }
   ],
   "source": [
    "# Path of the file to read\n",
    "candy_filepath = \"../input/candy.csv\"\n",
    "\n",
    "# Fill in the line below to read the file into a variable candy_data\n",
    "candy_data = pd.read_csv(candy_filepath, index_col = \"id\")\n",
    "\n",
    "# Run the line below with no changes to check that you've loaded the data correctly\n",
    "step_1.check()"
   ]
  },
  {
   "cell_type": "code",
   "execution_count": 4,
   "id": "024236ef",
   "metadata": {
    "execution": {
     "iopub.execute_input": "2025-03-15T21:04:17.546159Z",
     "iopub.status.busy": "2025-03-15T21:04:17.545699Z",
     "iopub.status.idle": "2025-03-15T21:04:17.549761Z",
     "shell.execute_reply": "2025-03-15T21:04:17.548611Z"
    },
    "papermill": {
     "duration": 0.014204,
     "end_time": "2025-03-15T21:04:17.551690",
     "exception": false,
     "start_time": "2025-03-15T21:04:17.537486",
     "status": "completed"
    },
    "tags": []
   },
   "outputs": [],
   "source": [
    "# Lines below will give you a hint or solution code\n",
    "#step_1.hint()\n",
    "#step_1.solution()"
   ]
  },
  {
   "cell_type": "markdown",
   "id": "bbd4fda4",
   "metadata": {
    "papermill": {
     "duration": 0.006794,
     "end_time": "2025-03-15T21:04:17.565957",
     "exception": false,
     "start_time": "2025-03-15T21:04:17.559163",
     "status": "completed"
    },
    "tags": []
   },
   "source": [
    "## Step 2: Review the data\n",
    "\n",
    "Use a Python command to print the first five rows of the data."
   ]
  },
  {
   "cell_type": "code",
   "execution_count": 5,
   "id": "025be987",
   "metadata": {
    "execution": {
     "iopub.execute_input": "2025-03-15T21:04:17.581673Z",
     "iopub.status.busy": "2025-03-15T21:04:17.581343Z",
     "iopub.status.idle": "2025-03-15T21:04:17.607137Z",
     "shell.execute_reply": "2025-03-15T21:04:17.606072Z"
    },
    "papermill": {
     "duration": 0.03556,
     "end_time": "2025-03-15T21:04:17.608749",
     "exception": false,
     "start_time": "2025-03-15T21:04:17.573189",
     "status": "completed"
    },
    "tags": []
   },
   "outputs": [
    {
     "data": {
      "text/html": [
       "<div>\n",
       "<style scoped>\n",
       "    .dataframe tbody tr th:only-of-type {\n",
       "        vertical-align: middle;\n",
       "    }\n",
       "\n",
       "    .dataframe tbody tr th {\n",
       "        vertical-align: top;\n",
       "    }\n",
       "\n",
       "    .dataframe thead th {\n",
       "        text-align: right;\n",
       "    }\n",
       "</style>\n",
       "<table border=\"1\" class=\"dataframe\">\n",
       "  <thead>\n",
       "    <tr style=\"text-align: right;\">\n",
       "      <th></th>\n",
       "      <th>competitorname</th>\n",
       "      <th>chocolate</th>\n",
       "      <th>fruity</th>\n",
       "      <th>caramel</th>\n",
       "      <th>peanutyalmondy</th>\n",
       "      <th>nougat</th>\n",
       "      <th>crispedricewafer</th>\n",
       "      <th>hard</th>\n",
       "      <th>bar</th>\n",
       "      <th>pluribus</th>\n",
       "      <th>sugarpercent</th>\n",
       "      <th>pricepercent</th>\n",
       "      <th>winpercent</th>\n",
       "    </tr>\n",
       "    <tr>\n",
       "      <th>id</th>\n",
       "      <th></th>\n",
       "      <th></th>\n",
       "      <th></th>\n",
       "      <th></th>\n",
       "      <th></th>\n",
       "      <th></th>\n",
       "      <th></th>\n",
       "      <th></th>\n",
       "      <th></th>\n",
       "      <th></th>\n",
       "      <th></th>\n",
       "      <th></th>\n",
       "      <th></th>\n",
       "    </tr>\n",
       "  </thead>\n",
       "  <tbody>\n",
       "    <tr>\n",
       "      <th>0</th>\n",
       "      <td>100 Grand</td>\n",
       "      <td>Yes</td>\n",
       "      <td>No</td>\n",
       "      <td>Yes</td>\n",
       "      <td>No</td>\n",
       "      <td>No</td>\n",
       "      <td>Yes</td>\n",
       "      <td>No</td>\n",
       "      <td>Yes</td>\n",
       "      <td>No</td>\n",
       "      <td>0.732</td>\n",
       "      <td>0.860</td>\n",
       "      <td>66.971725</td>\n",
       "    </tr>\n",
       "    <tr>\n",
       "      <th>1</th>\n",
       "      <td>3 Musketeers</td>\n",
       "      <td>Yes</td>\n",
       "      <td>No</td>\n",
       "      <td>No</td>\n",
       "      <td>No</td>\n",
       "      <td>Yes</td>\n",
       "      <td>No</td>\n",
       "      <td>No</td>\n",
       "      <td>Yes</td>\n",
       "      <td>No</td>\n",
       "      <td>0.604</td>\n",
       "      <td>0.511</td>\n",
       "      <td>67.602936</td>\n",
       "    </tr>\n",
       "    <tr>\n",
       "      <th>2</th>\n",
       "      <td>Air Heads</td>\n",
       "      <td>No</td>\n",
       "      <td>Yes</td>\n",
       "      <td>No</td>\n",
       "      <td>No</td>\n",
       "      <td>No</td>\n",
       "      <td>No</td>\n",
       "      <td>No</td>\n",
       "      <td>No</td>\n",
       "      <td>No</td>\n",
       "      <td>0.906</td>\n",
       "      <td>0.511</td>\n",
       "      <td>52.341465</td>\n",
       "    </tr>\n",
       "    <tr>\n",
       "      <th>3</th>\n",
       "      <td>Almond Joy</td>\n",
       "      <td>Yes</td>\n",
       "      <td>No</td>\n",
       "      <td>No</td>\n",
       "      <td>Yes</td>\n",
       "      <td>No</td>\n",
       "      <td>No</td>\n",
       "      <td>No</td>\n",
       "      <td>Yes</td>\n",
       "      <td>No</td>\n",
       "      <td>0.465</td>\n",
       "      <td>0.767</td>\n",
       "      <td>50.347546</td>\n",
       "    </tr>\n",
       "    <tr>\n",
       "      <th>4</th>\n",
       "      <td>Baby Ruth</td>\n",
       "      <td>Yes</td>\n",
       "      <td>No</td>\n",
       "      <td>Yes</td>\n",
       "      <td>Yes</td>\n",
       "      <td>Yes</td>\n",
       "      <td>No</td>\n",
       "      <td>No</td>\n",
       "      <td>Yes</td>\n",
       "      <td>No</td>\n",
       "      <td>0.604</td>\n",
       "      <td>0.767</td>\n",
       "      <td>56.914547</td>\n",
       "    </tr>\n",
       "  </tbody>\n",
       "</table>\n",
       "</div>"
      ],
      "text/plain": [
       "   competitorname chocolate fruity caramel peanutyalmondy nougat  \\\n",
       "id                                                                 \n",
       "0       100 Grand       Yes     No     Yes             No     No   \n",
       "1    3 Musketeers       Yes     No      No             No    Yes   \n",
       "2       Air Heads        No    Yes      No             No     No   \n",
       "3      Almond Joy       Yes     No      No            Yes     No   \n",
       "4       Baby Ruth       Yes     No     Yes            Yes    Yes   \n",
       "\n",
       "   crispedricewafer hard  bar pluribus  sugarpercent  pricepercent  winpercent  \n",
       "id                                                                              \n",
       "0               Yes   No  Yes       No         0.732         0.860   66.971725  \n",
       "1                No   No  Yes       No         0.604         0.511   67.602936  \n",
       "2                No   No   No       No         0.906         0.511   52.341465  \n",
       "3                No   No  Yes       No         0.465         0.767   50.347546  \n",
       "4                No   No  Yes       No         0.604         0.767   56.914547  "
      ]
     },
     "execution_count": 5,
     "metadata": {},
     "output_type": "execute_result"
    }
   ],
   "source": [
    "# Print the first five rows of the data\n",
    "candy_data.head() # Your code here"
   ]
  },
  {
   "cell_type": "markdown",
   "id": "c63586bd",
   "metadata": {
    "papermill": {
     "duration": 0.007295,
     "end_time": "2025-03-15T21:04:17.624613",
     "exception": false,
     "start_time": "2025-03-15T21:04:17.617318",
     "status": "completed"
    },
    "tags": []
   },
   "source": [
    "The dataset contains 83 rows, where each corresponds to a different candy bar.  There are 13 columns:\n",
    "- `'competitorname'` contains the name of the candy bar. \n",
    "- the next **9** columns (from `'chocolate'` to `'pluribus'`) describe the candy.  For instance, rows with chocolate candies have `\"Yes\"` in the `'chocolate'` column (and candies without chocolate have `\"No\"` in the same column).\n",
    "- `'sugarpercent'` provides some indication of the amount of sugar, where higher values signify higher sugar content.\n",
    "- `'pricepercent'` shows the price per unit, relative to the other candies in the dataset.\n",
    "- `'winpercent'` is calculated from the survey results; higher values indicate that the candy was more popular with survey respondents.\n",
    "\n",
    "Use the first five rows of the data to answer the questions below."
   ]
  },
  {
   "cell_type": "code",
   "execution_count": 6,
   "id": "608e1632",
   "metadata": {
    "execution": {
     "iopub.execute_input": "2025-03-15T21:04:17.640651Z",
     "iopub.status.busy": "2025-03-15T21:04:17.640313Z",
     "iopub.status.idle": "2025-03-15T21:04:17.648005Z",
     "shell.execute_reply": "2025-03-15T21:04:17.646820Z"
    },
    "papermill": {
     "duration": 0.017634,
     "end_time": "2025-03-15T21:04:17.649668",
     "exception": false,
     "start_time": "2025-03-15T21:04:17.632034",
     "status": "completed"
    },
    "tags": []
   },
   "outputs": [
    {
     "data": {
      "application/javascript": [
       "parent.postMessage({\"jupyterEvent\": \"custom.exercise_interaction\", \"data\": {\"outcomeType\": 1, \"valueTowardsCompletion\": 0.3333333333333333, \"interactionType\": 1, \"questionType\": 1, \"questionId\": \"2_ReviewData\", \"learnToolsVersion\": \"0.3.4\", \"failureMessage\": \"\", \"exceptionClass\": \"\", \"trace\": \"\"}}, \"*\")"
      ],
      "text/plain": [
       "<IPython.core.display.Javascript object>"
      ]
     },
     "metadata": {},
     "output_type": "display_data"
    },
    {
     "data": {
      "text/markdown": [
       "<span style=\"color:#33cc33\">Correct</span>"
      ],
      "text/plain": [
       "Correct"
      ]
     },
     "metadata": {},
     "output_type": "display_data"
    }
   ],
   "source": [
    "# Fill in the line below: Which candy was more popular with survey respondents:\n",
    "# '3 Musketeers' or 'Almond Joy'?  (Please enclose your answer in single quotes.)\n",
    "more_popular = '3 Musketeers'\n",
    "\n",
    "# Fill in the line below: Which candy has higher sugar content: 'Air Heads'\n",
    "# or 'Baby Ruth'? (Please enclose your answer in single quotes.)\n",
    "more_sugar = 'Air Heads'\n",
    "\n",
    "# Check your answers\n",
    "step_2.check()"
   ]
  },
  {
   "cell_type": "code",
   "execution_count": 7,
   "id": "fb66c5ff",
   "metadata": {
    "execution": {
     "iopub.execute_input": "2025-03-15T21:04:17.666530Z",
     "iopub.status.busy": "2025-03-15T21:04:17.666208Z",
     "iopub.status.idle": "2025-03-15T21:04:17.669966Z",
     "shell.execute_reply": "2025-03-15T21:04:17.668943Z"
    },
    "papermill": {
     "duration": 0.01375,
     "end_time": "2025-03-15T21:04:17.671536",
     "exception": false,
     "start_time": "2025-03-15T21:04:17.657786",
     "status": "completed"
    },
    "tags": []
   },
   "outputs": [],
   "source": [
    "# Lines below will give you a hint or solution code\n",
    "#step_2.hint()\n",
    "#step_2.solution()"
   ]
  },
  {
   "cell_type": "markdown",
   "id": "ae670c28",
   "metadata": {
    "papermill": {
     "duration": 0.007557,
     "end_time": "2025-03-15T21:04:17.687196",
     "exception": false,
     "start_time": "2025-03-15T21:04:17.679639",
     "status": "completed"
    },
    "tags": []
   },
   "source": [
    "## Step 3: The role of sugar\n",
    "\n",
    "Do people tend to prefer candies with higher sugar content?  \n",
    "\n",
    "#### Part A\n",
    "\n",
    "Create a scatter plot that shows the relationship between `'sugarpercent'` (on the horizontal x-axis) and `'winpercent'` (on the vertical y-axis).  _Don't add a regression line just yet -- you'll do that in the next step!_"
   ]
  },
  {
   "cell_type": "code",
   "execution_count": 8,
   "id": "177cddee",
   "metadata": {
    "execution": {
     "iopub.execute_input": "2025-03-15T21:04:17.703754Z",
     "iopub.status.busy": "2025-03-15T21:04:17.703385Z",
     "iopub.status.idle": "2025-03-15T21:04:18.017302Z",
     "shell.execute_reply": "2025-03-15T21:04:18.016216Z"
    },
    "papermill": {
     "duration": 0.324393,
     "end_time": "2025-03-15T21:04:18.019152",
     "exception": false,
     "start_time": "2025-03-15T21:04:17.694759",
     "status": "completed"
    },
    "tags": []
   },
   "outputs": [
    {
     "data": {
      "application/javascript": [
       "parent.postMessage({\"jupyterEvent\": \"custom.exercise_interaction\", \"data\": {\"outcomeType\": 1, \"valueTowardsCompletion\": 0.3333333333333333, \"interactionType\": 1, \"questionType\": 2, \"questionId\": \"3.1_PlotBlueScatter\", \"learnToolsVersion\": \"0.3.4\", \"failureMessage\": \"\", \"exceptionClass\": \"\", \"trace\": \"\"}}, \"*\")"
      ],
      "text/plain": [
       "<IPython.core.display.Javascript object>"
      ]
     },
     "metadata": {},
     "output_type": "display_data"
    },
    {
     "data": {
      "text/markdown": [
       "<span style=\"color:#33cc33\">Correct</span>"
      ],
      "text/plain": [
       "Correct"
      ]
     },
     "metadata": {},
     "output_type": "display_data"
    },
    {
     "data": {
      "image/png": "[encoded data removed]",
      "text/plain": [
       "<Figure size 640x480 with 1 Axes>"
      ]
     },
     "metadata": {},
     "output_type": "display_data"
    }
   ],
   "source": [
    "# Scatter plot showing the relationship between 'sugarpercent' and 'winpercent'\n",
    "____ # Your code here\n",
    "\n",
    "sns.scatterplot(x=candy_data[\"sugarpercent\"], y = candy_data[\"winpercent\"])\n",
    "# Check your answer\n",
    "step_3.a.check()"
   ]
  },
  {
   "cell_type": "code",
   "execution_count": 9,
   "id": "c9d652fe",
   "metadata": {
    "execution": {
     "iopub.execute_input": "2025-03-15T21:04:18.037400Z",
     "iopub.status.busy": "2025-03-15T21:04:18.037035Z",
     "iopub.status.idle": "2025-03-15T21:04:18.041033Z",
     "shell.execute_reply": "2025-03-15T21:04:18.039984Z"
    },
    "papermill": {
     "duration": 0.014891,
     "end_time": "2025-03-15T21:04:18.042589",
     "exception": false,
     "start_time": "2025-03-15T21:04:18.027698",
     "status": "completed"
    },
    "tags": []
   },
   "outputs": [],
   "source": [
    "# Lines below will give you a hint or solution code\n",
    "#step_3.a.hint()\n",
    "#step_3.a.solution_plot()"
   ]
  },
  {
   "cell_type": "markdown",
   "id": "99497eb3",
   "metadata": {
    "papermill": {
     "duration": 0.007851,
     "end_time": "2025-03-15T21:04:18.059046",
     "exception": false,
     "start_time": "2025-03-15T21:04:18.051195",
     "status": "completed"
    },
    "tags": []
   },
   "source": [
    "#### Part B\n",
    "\n",
    "Does the scatter plot show a **strong** correlation between the two variables?  If so, are candies with more sugar relatively more or less popular with the survey respondents?"
   ]
  },
  {
   "cell_type": "code",
   "execution_count": 10,
   "id": "00551b2e",
   "metadata": {
    "execution": {
     "iopub.execute_input": "2025-03-15T21:04:18.076747Z",
     "iopub.status.busy": "2025-03-15T21:04:18.076421Z",
     "iopub.status.idle": "2025-03-15T21:04:18.080044Z",
     "shell.execute_reply": "2025-03-15T21:04:18.079166Z"
    },
    "papermill": {
     "duration": 0.014125,
     "end_time": "2025-03-15T21:04:18.081549",
     "exception": false,
     "start_time": "2025-03-15T21:04:18.067424",
     "status": "completed"
    },
    "tags": []
   },
   "outputs": [],
   "source": [
    "#step_3.b.hint()"
   ]
  },
  {
   "cell_type": "code",
   "execution_count": 11,
   "id": "ad013982",
   "metadata": {
    "execution": {
     "iopub.execute_input": "2025-03-15T21:04:18.099303Z",
     "iopub.status.busy": "2025-03-15T21:04:18.098954Z",
     "iopub.status.idle": "2025-03-15T21:04:18.106084Z",
     "shell.execute_reply": "2025-03-15T21:04:18.105065Z"
    },
    "papermill": {
     "duration": 0.017912,
     "end_time": "2025-03-15T21:04:18.107761",
     "exception": false,
     "start_time": "2025-03-15T21:04:18.089849",
     "status": "completed"
    },
    "tags": []
   },
   "outputs": [
    {
     "data": {
      "application/javascript": [
       "parent.postMessage({\"jupyterEvent\": \"custom.exercise_interaction\", \"data\": {\"interactionType\": 3, \"questionType\": 4, \"questionId\": \"3.2_ThinkBlueScatter\", \"learnToolsVersion\": \"0.3.4\", \"valueTowardsCompletion\": 0.0, \"failureMessage\": \"\", \"exceptionClass\": \"\", \"trace\": \"\", \"outcomeType\": 4}}, \"*\")"
      ],
      "text/plain": [
       "<IPython.core.display.Javascript object>"
      ]
     },
     "metadata": {},
     "output_type": "display_data"
    },
    {
     "data": {
      "text/markdown": [
       "<span style=\"color:#33cc99\">Solution:</span> The scatter plot does not show a strong correlation between the two variables. Since there is no clear relationship between the two variables, this tells us that sugar content does not play a strong role in candy popularity."
      ],
      "text/plain": [
       "Solution: The scatter plot does not show a strong correlation between the two variables. Since there is no clear relationship between the two variables, this tells us that sugar content does not play a strong role in candy popularity."
      ]
     },
     "metadata": {},
     "output_type": "display_data"
    }
   ],
   "source": [
    "# Check your answer (Run this code cell to receive credit!)\n",
    "step_3.b.solution()"
   ]
  },
  {
   "cell_type": "markdown",
   "id": "7348e4e2",
   "metadata": {
    "papermill": {
     "duration": 0.009783,
     "end_time": "2025-03-15T21:04:18.126209",
     "exception": false,
     "start_time": "2025-03-15T21:04:18.116426",
     "status": "completed"
    },
    "tags": []
   },
   "source": [
    "## Step 4: Take a closer look\n",
    "\n",
    "#### Part A\n",
    "\n",
    "Create the same scatter plot you created in **Step 3**, but now with a regression line!"
   ]
  },
  {
   "cell_type": "code",
   "execution_count": 12,
   "id": "714c38e4",
   "metadata": {
    "execution": {
     "iopub.execute_input": "2025-03-15T21:04:18.144968Z",
     "iopub.status.busy": "2025-03-15T21:04:18.144597Z",
     "iopub.status.idle": "2025-03-15T21:04:18.470790Z",
     "shell.execute_reply": "2025-03-15T21:04:18.469793Z"
    },
    "papermill": {
     "duration": 0.337455,
     "end_time": "2025-03-15T21:04:18.472563",
     "exception": false,
     "start_time": "2025-03-15T21:04:18.135108",
     "status": "completed"
    },
    "tags": []
   },
   "outputs": [
    {
     "data": {
      "application/javascript": [
       "parent.postMessage({\"jupyterEvent\": \"custom.exercise_interaction\", \"data\": {\"outcomeType\": 1, \"valueTowardsCompletion\": 0.3333333333333333, \"interactionType\": 1, \"questionType\": 2, \"questionId\": \"4.1_PlotBlueReg\", \"learnToolsVersion\": \"0.3.4\", \"failureMessage\": \"\", \"exceptionClass\": \"\", \"trace\": \"\"}}, \"*\")"
      ],
      "text/plain": [
       "<IPython.core.display.Javascript object>"
      ]
     },
     "metadata": {},
     "output_type": "display_data"
    },
    {
     "data": {
      "text/markdown": [
       "<span style=\"color:#33cc33\">Correct</span>"
      ],
      "text/plain": [
       "Correct"
      ]
     },
     "metadata": {},
     "output_type": "display_data"
    },
    {
     "data": {
      "image/png": "[encoded data removed]",
      "text/plain": [
       "<Figure size 640x480 with 1 Axes>"
      ]
     },
     "metadata": {},
     "output_type": "display_data"
    }
   ],
   "source": [
    "# Scatter plot w/ regression line showing the relationship between 'sugarpercent' and 'winpercent'\n",
    "____ # Your code here\n",
    "sns.regplot(x=candy_data[\"sugarpercent\"], y = candy_data[\"winpercent\"])\n",
    "# Check your answer\n",
    "step_4.a.check()"
   ]
  },
  {
   "cell_type": "code",
   "execution_count": 13,
   "id": "588e9464",
   "metadata": {
    "execution": {
     "iopub.execute_input": "2025-03-15T21:04:18.492865Z",
     "iopub.status.busy": "2025-03-15T21:04:18.492521Z",
     "iopub.status.idle": "2025-03-15T21:04:18.496294Z",
     "shell.execute_reply": "2025-03-15T21:04:18.495367Z"
    },
    "papermill": {
     "duration": 0.015635,
     "end_time": "2025-03-15T21:04:18.497758",
     "exception": false,
     "start_time": "2025-03-15T21:04:18.482123",
     "status": "completed"
    },
    "tags": []
   },
   "outputs": [],
   "source": [
    "# Lines below will give you a hint or solution code\n",
    "#step_4.a.hint()\n",
    "#step_4.a.solution_plot()"
   ]
  },
  {
   "cell_type": "markdown",
   "id": "bb0cef22",
   "metadata": {
    "papermill": {
     "duration": 0.009781,
     "end_time": "2025-03-15T21:04:18.517115",
     "exception": false,
     "start_time": "2025-03-15T21:04:18.507334",
     "status": "completed"
    },
    "tags": []
   },
   "source": [
    "#### Part B\n",
    "\n",
    "According to the plot above, is there a **slight** correlation between `'winpercent'` and `'sugarpercent'`?  What does this tell you about the candy that people tend to prefer?"
   ]
  },
  {
   "cell_type": "code",
   "execution_count": 14,
   "id": "e2957d39",
   "metadata": {
    "execution": {
     "iopub.execute_input": "2025-03-15T21:04:18.537073Z",
     "iopub.status.busy": "2025-03-15T21:04:18.536645Z",
     "iopub.status.idle": "2025-03-15T21:04:18.540824Z",
     "shell.execute_reply": "2025-03-15T21:04:18.539682Z"
    },
    "papermill": {
     "duration": 0.016049,
     "end_time": "2025-03-15T21:04:18.542529",
     "exception": false,
     "start_time": "2025-03-15T21:04:18.526480",
     "status": "completed"
    },
    "tags": []
   },
   "outputs": [],
   "source": [
    "#step_4.b.hint()"
   ]
  },
  {
   "cell_type": "code",
   "execution_count": 15,
   "id": "c829d521",
   "metadata": {
    "execution": {
     "iopub.execute_input": "2025-03-15T21:04:18.562678Z",
     "iopub.status.busy": "2025-03-15T21:04:18.562349Z",
     "iopub.status.idle": "2025-03-15T21:04:18.569606Z",
     "shell.execute_reply": "2025-03-15T21:04:18.568648Z"
    },
    "papermill": {
     "duration": 0.019101,
     "end_time": "2025-03-15T21:04:18.571158",
     "exception": false,
     "start_time": "2025-03-15T21:04:18.552057",
     "status": "completed"
    },
    "tags": []
   },
   "outputs": [
    {
     "data": {
      "application/javascript": [
       "parent.postMessage({\"jupyterEvent\": \"custom.exercise_interaction\", \"data\": {\"interactionType\": 3, \"questionType\": 4, \"questionId\": \"4.2_ThinkBlueReg\", \"learnToolsVersion\": \"0.3.4\", \"valueTowardsCompletion\": 0.0, \"failureMessage\": \"\", \"exceptionClass\": \"\", \"trace\": \"\", \"outcomeType\": 4}}, \"*\")"
      ],
      "text/plain": [
       "<IPython.core.display.Javascript object>"
      ]
     },
     "metadata": {},
     "output_type": "display_data"
    },
    {
     "data": {
      "text/markdown": [
       "<span style=\"color:#33cc99\">Solution:</span> Since the regression line has a slightly positive slope, this tells us that there is a slightly positive correlation between `'winpercent'` and `'sugarpercent'`. Thus, people have a slight preference for candies containing relatively more sugar."
      ],
      "text/plain": [
       "Solution: Since the regression line has a slightly positive slope, this tells us that there is a slightly positive correlation between `'winpercent'` and `'sugarpercent'`. Thus, people have a slight preference for candies containing relatively more sugar."
      ]
     },
     "metadata": {},
     "output_type": "display_data"
    }
   ],
   "source": [
    "# Check your answer (Run this code cell to receive credit!)\n",
    "step_4.b.solution()"
   ]
  },
  {
   "cell_type": "markdown",
   "id": "9a34f1a9",
   "metadata": {
    "papermill": {
     "duration": 0.009238,
     "end_time": "2025-03-15T21:04:18.591623",
     "exception": false,
     "start_time": "2025-03-15T21:04:18.582385",
     "status": "completed"
    },
    "tags": []
   },
   "source": [
    "## Step 5: Chocolate!\n",
    "\n",
    "In the code cell below, create a scatter plot to show the relationship between `'pricepercent'` (on the horizontal x-axis) and `'winpercent'` (on the vertical y-axis). Use the `'chocolate'` column to color-code the points.  _Don't add any regression lines just yet -- you'll do that in the next step!_"
   ]
  },
  {
   "cell_type": "code",
   "execution_count": 16,
   "id": "50d6c3af",
   "metadata": {
    "execution": {
     "iopub.execute_input": "2025-03-15T21:04:18.612328Z",
     "iopub.status.busy": "2025-03-15T21:04:18.611960Z",
     "iopub.status.idle": "2025-03-15T21:04:18.890506Z",
     "shell.execute_reply": "2025-03-15T21:04:18.889266Z"
    },
    "papermill": {
     "duration": 0.29084,
     "end_time": "2025-03-15T21:04:18.892323",
     "exception": false,
     "start_time": "2025-03-15T21:04:18.601483",
     "status": "completed"
    },
    "tags": []
   },
   "outputs": [
    {
     "data": {
      "application/javascript": [
       "parent.postMessage({\"jupyterEvent\": \"custom.exercise_interaction\", \"data\": {\"outcomeType\": 1, \"valueTowardsCompletion\": 0.3333333333333333, \"interactionType\": 1, \"questionType\": 2, \"questionId\": \"5_ColorScatter\", \"learnToolsVersion\": \"0.3.4\", \"failureMessage\": \"\", \"exceptionClass\": \"\", \"trace\": \"\"}}, \"*\")"
      ],
      "text/plain": [
       "<IPython.core.display.Javascript object>"
      ]
     },
     "metadata": {},
     "output_type": "display_data"
    },
    {
     "data": {
      "text/markdown": [
       "<span style=\"color:#33cc33\">Correct</span>"
      ],
      "text/plain": [
       "Correct"
      ]
     },
     "metadata": {},
     "output_type": "display_data"
    },
    {
     "data": {
      "image/png": "[encoded data removed]",
      "text/plain": [
       "<Figure size 640x480 with 1 Axes>"
      ]
     },
     "metadata": {},
     "output_type": "display_data"
    }
   ],
   "source": [
    "# Scatter plot showing the relationship between 'pricepercent', 'winpercent', and 'chocolate'\n",
    "____ # Your code here\n",
    "sns.scatterplot(x=candy_data[\"sugarpercent\"], y = candy_data[\"winpercent\"],hue=candy_data[\"chocolate\"])\n",
    "# Check your answer\n",
    "step_5.check()"
   ]
  },
  {
   "cell_type": "code",
   "execution_count": 17,
   "id": "5f9138e5",
   "metadata": {
    "execution": {
     "iopub.execute_input": "2025-03-15T21:04:18.914712Z",
     "iopub.status.busy": "2025-03-15T21:04:18.914376Z",
     "iopub.status.idle": "2025-03-15T21:04:18.918366Z",
     "shell.execute_reply": "2025-03-15T21:04:18.917416Z"
    },
    "papermill": {
     "duration": 0.017019,
     "end_time": "2025-03-15T21:04:18.919867",
     "exception": false,
     "start_time": "2025-03-15T21:04:18.902848",
     "status": "completed"
    },
    "tags": []
   },
   "outputs": [],
   "source": [
    "# Lines below will give you a hint or solution code\n",
    "#step_5.hint()\n",
    "#step_5.solution_plot()"
   ]
  },
  {
   "cell_type": "markdown",
   "id": "1c3d791d",
   "metadata": {
    "papermill": {
     "duration": 0.010235,
     "end_time": "2025-03-15T21:04:18.940766",
     "exception": false,
     "start_time": "2025-03-15T21:04:18.930531",
     "status": "completed"
    },
    "tags": []
   },
   "source": [
    "Can you see any interesting patterns in the scatter plot?  We'll investigate this plot further  by adding regression lines in the next step!\n",
    "\n",
    "## Step 6: Investigate chocolate\n",
    "\n",
    "#### Part A\n",
    "\n",
    "Create the same scatter plot you created in **Step 5**, but now with two regression lines, corresponding to (1) chocolate candies and (2) candies without chocolate."
   ]
  },
  {
   "cell_type": "code",
   "execution_count": 18,
   "id": "f4f7d2c1",
   "metadata": {
    "execution": {
     "iopub.execute_input": "2025-03-15T21:04:18.963003Z",
     "iopub.status.busy": "2025-03-15T21:04:18.962602Z",
     "iopub.status.idle": "2025-03-15T21:04:19.721325Z",
     "shell.execute_reply": "2025-03-15T21:04:19.720310Z"
    },
    "papermill": {
     "duration": 0.771687,
     "end_time": "2025-03-15T21:04:19.722944",
     "exception": false,
     "start_time": "2025-03-15T21:04:18.951257",
     "status": "completed"
    },
    "tags": []
   },
   "outputs": [
    {
     "data": {
      "application/javascript": [
       "parent.postMessage({\"jupyterEvent\": \"custom.exercise_interaction\", \"data\": {\"outcomeType\": 1, \"valueTowardsCompletion\": 0.3333333333333333, \"interactionType\": 1, \"questionType\": 2, \"questionId\": \"6.1_PlotColorReg\", \"learnToolsVersion\": \"0.3.4\", \"failureMessage\": \"\", \"exceptionClass\": \"\", \"trace\": \"\"}}, \"*\")"
      ],
      "text/plain": [
       "<IPython.core.display.Javascript object>"
      ]
     },
     "metadata": {},
     "output_type": "display_data"
    },
    {
     "data": {
      "text/markdown": [
       "<span style=\"color:#33cc33\">Correct</span>"
      ],
      "text/plain": [
       "Correct"
      ]
     },
     "metadata": {},
     "output_type": "display_data"
    },
    {
     "data": {
      "image/png": "[encoded data removed]",
      "text/plain": [
       "<Figure size 578.611x500 with 1 Axes>"
      ]
     },
     "metadata": {},
     "output_type": "display_data"
    }
   ],
   "source": [
    "# Color-coded scatter plot w/ regression lines\n",
    "____ # Your code here\n",
    "sns.lmplot(x=\"sugarpercent\", y=\"winpercent\", hue=\"chocolate\",data=candy_data)\n",
    "# Check your answer\n",
    "step_6.a.check()"
   ]
  },
  {
   "cell_type": "code",
   "execution_count": 19,
   "id": "ed1f3835",
   "metadata": {
    "execution": {
     "iopub.execute_input": "2025-03-15T21:04:19.749506Z",
     "iopub.status.busy": "2025-03-15T21:04:19.749154Z",
     "iopub.status.idle": "2025-03-15T21:04:19.752942Z",
     "shell.execute_reply": "2025-03-15T21:04:19.752091Z"
    },
    "papermill": {
     "duration": 0.019658,
     "end_time": "2025-03-15T21:04:19.754646",
     "exception": false,
     "start_time": "2025-03-15T21:04:19.734988",
     "status": "completed"
    },
    "tags": []
   },
   "outputs": [],
   "source": [
    "# Lines below will give you a hint or solution code\n",
    "#step_6.a.hint()\n",
    "#step_6.a.solution_plot()"
   ]
  },
  {
   "cell_type": "markdown",
   "id": "3e0a56f2",
   "metadata": {
    "papermill": {
     "duration": 0.011228,
     "end_time": "2025-03-15T21:04:19.777554",
     "exception": false,
     "start_time": "2025-03-15T21:04:19.766326",
     "status": "completed"
    },
    "tags": []
   },
   "source": [
    "#### Part B\n",
    "\n",
    "Using the regression lines, what conclusions can you draw about the effects of chocolate and price on candy popularity?"
   ]
  },
  {
   "cell_type": "code",
   "execution_count": 20,
   "id": "4da2b01b",
   "metadata": {
    "execution": {
     "iopub.execute_input": "2025-03-15T21:04:19.802055Z",
     "iopub.status.busy": "2025-03-15T21:04:19.801621Z",
     "iopub.status.idle": "2025-03-15T21:04:19.805625Z",
     "shell.execute_reply": "2025-03-15T21:04:19.804573Z"
    },
    "papermill": {
     "duration": 0.018037,
     "end_time": "2025-03-15T21:04:19.807207",
     "exception": false,
     "start_time": "2025-03-15T21:04:19.789170",
     "status": "completed"
    },
    "tags": []
   },
   "outputs": [],
   "source": [
    "#step_6.b.hint()"
   ]
  },
  {
   "cell_type": "code",
   "execution_count": 21,
   "id": "3f0f4f4c",
   "metadata": {
    "execution": {
     "iopub.execute_input": "2025-03-15T21:04:19.832093Z",
     "iopub.status.busy": "2025-03-15T21:04:19.831698Z",
     "iopub.status.idle": "2025-03-15T21:04:19.838990Z",
     "shell.execute_reply": "2025-03-15T21:04:19.837981Z"
    },
    "papermill": {
     "duration": 0.021639,
     "end_time": "2025-03-15T21:04:19.840691",
     "exception": false,
     "start_time": "2025-03-15T21:04:19.819052",
     "status": "completed"
    },
    "tags": []
   },
   "outputs": [
    {
     "data": {
      "application/javascript": [
       "parent.postMessage({\"jupyterEvent\": \"custom.exercise_interaction\", \"data\": {\"interactionType\": 3, \"questionType\": 4, \"questionId\": \"6.2_ThinkColorReg\", \"learnToolsVersion\": \"0.3.4\", \"valueTowardsCompletion\": 0.0, \"failureMessage\": \"\", \"exceptionClass\": \"\", \"trace\": \"\", \"outcomeType\": 4}}, \"*\")"
      ],
      "text/plain": [
       "<IPython.core.display.Javascript object>"
      ]
     },
     "metadata": {},
     "output_type": "display_data"
    },
    {
     "data": {
      "text/markdown": [
       "<span style=\"color:#33cc99\">Solution:</span> We'll begin with the regression line for chocolate candies. Since this line has a slightly positive slope, we can say that more expensive chocolate candies tend to be more popular (than relatively cheaper chocolate candies).  Likewise, since the regression line for candies without chocolate has a negative slope, we can say that if candies don't contain chocolate, they tend to be more popular when they are cheaper.  One important note, however, is that the dataset is quite small -- so we shouldn't invest too much trust in these patterns!  To inspire more confidence in the results, we should add more candies to the dataset."
      ],
      "text/plain": [
       "Solution: We'll begin with the regression line for chocolate candies. Since this line has a slightly positive slope, we can say that more expensive chocolate candies tend to be more popular (than relatively cheaper chocolate candies).  Likewise, since the regression line for candies without chocolate has a negative slope, we can say that if candies don't contain chocolate, they tend to be more popular when they are cheaper.  One important note, however, is that the dataset is quite small -- so we shouldn't invest too much trust in these patterns!  To inspire more confidence in the results, we should add more candies to the dataset."
      ]
     },
     "metadata": {},
     "output_type": "display_data"
    }
   ],
   "source": [
    "# Check your answer (Run this code cell to receive credit!)\n",
    "step_6.b.solution()"
   ]
  },
  {
   "cell_type": "markdown",
   "id": "e99bfaca",
   "metadata": {
    "papermill": {
     "duration": 0.011577,
     "end_time": "2025-03-15T21:04:19.864201",
     "exception": false,
     "start_time": "2025-03-15T21:04:19.852624",
     "status": "completed"
    },
    "tags": []
   },
   "source": [
    "## Step 7: Everybody loves chocolate.\n",
    "\n",
    "#### Part A\n",
    "\n",
    "Create a categorical scatter plot to highlight the relationship between `'chocolate'` and `'winpercent'`.  Put `'chocolate'` on the (horizontal) x-axis, and `'winpercent'` on the (vertical) y-axis."
   ]
  },
  {
   "cell_type": "code",
   "execution_count": 22,
   "id": "1aabde60",
   "metadata": {
    "execution": {
     "iopub.execute_input": "2025-03-15T21:04:19.889395Z",
     "iopub.status.busy": "2025-03-15T21:04:19.888989Z",
     "iopub.status.idle": "2025-03-15T21:04:20.159238Z",
     "shell.execute_reply": "2025-03-15T21:04:20.158137Z"
    },
    "papermill": {
     "duration": 0.285155,
     "end_time": "2025-03-15T21:04:20.161185",
     "exception": false,
     "start_time": "2025-03-15T21:04:19.876030",
     "status": "completed"
    },
    "tags": []
   },
   "outputs": [
    {
     "data": {
      "application/javascript": [
       "parent.postMessage({\"jupyterEvent\": \"custom.exercise_interaction\", \"data\": {\"outcomeType\": 1, \"valueTowardsCompletion\": 0.3333333333333333, \"interactionType\": 1, \"questionType\": 2, \"questionId\": \"7.1_PlotSwarm\", \"learnToolsVersion\": \"0.3.4\", \"failureMessage\": \"\", \"exceptionClass\": \"\", \"trace\": \"\"}}, \"*\")"
      ],
      "text/plain": [
       "<IPython.core.display.Javascript object>"
      ]
     },
     "metadata": {},
     "output_type": "display_data"
    },
    {
     "data": {
      "text/markdown": [
       "<span style=\"color:#33cc33\">Correct</span>"
      ],
      "text/plain": [
       "Correct"
      ]
     },
     "metadata": {},
     "output_type": "display_data"
    },
    {
     "data": {
      "image/png": "[encoded data removed]",
      "text/plain": [
       "<Figure size 640x480 with 1 Axes>"
      ]
     },
     "metadata": {},
     "output_type": "display_data"
    }
   ],
   "source": [
    "# Scatter plot showing the relationship between 'chocolate' and 'winpercent'\n",
    "____ # Your code here\n",
    "sns.swarmplot(x=candy_data[\"chocolate\"], y = candy_data[\"winpercent\"])\n",
    "# Check your answer\n",
    "step_7.a.check()"
   ]
  },
  {
   "cell_type": "code",
   "execution_count": 23,
   "id": "910d4e16",
   "metadata": {
    "execution": {
     "iopub.execute_input": "2025-03-15T21:04:20.187621Z",
     "iopub.status.busy": "2025-03-15T21:04:20.187200Z",
     "iopub.status.idle": "2025-03-15T21:04:20.191011Z",
     "shell.execute_reply": "2025-03-15T21:04:20.190042Z"
    },
    "papermill": {
     "duration": 0.018795,
     "end_time": "2025-03-15T21:04:20.192600",
     "exception": false,
     "start_time": "2025-03-15T21:04:20.173805",
     "status": "completed"
    },
    "tags": []
   },
   "outputs": [],
   "source": [
    "# Lines below will give you a hint or solution code\n",
    "#step_7.a.hint()\n",
    "#step_7.a.solution_plot()"
   ]
  },
  {
   "cell_type": "markdown",
   "id": "d23c4dee",
   "metadata": {
    "papermill": {
     "duration": 0.012307,
     "end_time": "2025-03-15T21:04:20.217873",
     "exception": false,
     "start_time": "2025-03-15T21:04:20.205566",
     "status": "completed"
    },
    "tags": []
   },
   "source": [
    "#### Part B\n",
    "\n",
    "You decide to dedicate a section of your report to the fact that chocolate candies tend to be more popular than candies without chocolate.  Which plot is more appropriate to tell this story: the plot from **Step 6**, or the plot from **Step 7**?"
   ]
  },
  {
   "cell_type": "code",
   "execution_count": 24,
   "id": "944969fd",
   "metadata": {
    "execution": {
     "iopub.execute_input": "2025-03-15T21:04:20.244492Z",
     "iopub.status.busy": "2025-03-15T21:04:20.244086Z",
     "iopub.status.idle": "2025-03-15T21:04:20.248029Z",
     "shell.execute_reply": "2025-03-15T21:04:20.246983Z"
    },
    "papermill": {
     "duration": 0.019011,
     "end_time": "2025-03-15T21:04:20.249653",
     "exception": false,
     "start_time": "2025-03-15T21:04:20.230642",
     "status": "completed"
    },
    "tags": []
   },
   "outputs": [],
   "source": [
    "#step_7.b.hint()"
   ]
  },
  {
   "cell_type": "code",
   "execution_count": 25,
   "id": "b5c45c63",
   "metadata": {
    "execution": {
     "iopub.execute_input": "2025-03-15T21:04:20.275812Z",
     "iopub.status.busy": "2025-03-15T21:04:20.275479Z",
     "iopub.status.idle": "2025-03-15T21:04:20.282450Z",
     "shell.execute_reply": "2025-03-15T21:04:20.281590Z"
    },
    "papermill": {
     "duration": 0.021662,
     "end_time": "2025-03-15T21:04:20.283863",
     "exception": false,
     "start_time": "2025-03-15T21:04:20.262201",
     "status": "completed"
    },
    "tags": []
   },
   "outputs": [
    {
     "data": {
      "application/javascript": [
       "parent.postMessage({\"jupyterEvent\": \"custom.exercise_interaction\", \"data\": {\"interactionType\": 3, \"questionType\": 4, \"questionId\": \"7.2_ThinkSwarm\", \"learnToolsVersion\": \"0.3.4\", \"valueTowardsCompletion\": 0.0, \"failureMessage\": \"\", \"exceptionClass\": \"\", \"trace\": \"\", \"outcomeType\": 4}}, \"*\")"
      ],
      "text/plain": [
       "<IPython.core.display.Javascript object>"
      ]
     },
     "metadata": {},
     "output_type": "display_data"
    },
    {
     "data": {
      "text/markdown": [
       "<span style=\"color:#33cc99\">Solution:</span> In this case, the categorical scatter plot from **Step 7** is the more appropriate plot. While both plots tell the desired story, the plot from **Step 6** conveys far more information that could distract from the main point."
      ],
      "text/plain": [
       "Solution: In this case, the categorical scatter plot from **Step 7** is the more appropriate plot. While both plots tell the desired story, the plot from **Step 6** conveys far more information that could distract from the main point."
      ]
     },
     "metadata": {},
     "output_type": "display_data"
    }
   ],
   "source": [
    "# Check your answer (Run this code cell to receive credit!)\n",
    "step_7.b.solution()"
   ]
  },
  {
   "cell_type": "markdown",
   "id": "52fd429f",
   "metadata": {
    "papermill": {
     "duration": 0.012927,
     "end_time": "2025-03-15T21:04:20.309509",
     "exception": false,
     "start_time": "2025-03-15T21:04:20.296582",
     "status": "completed"
    },
    "tags": []
   },
   "source": [
    "## Keep going\n",
    "\n",
    "Explore **[histograms and density plots](https://www.kaggle.com/alexisbcook/distributions)**."
   ]
  },
  {
   "cell_type": "markdown",
   "id": "6e9cf303",
   "metadata": {
    "papermill": {
     "duration": 0.012512,
     "end_time": "2025-03-15T21:04:20.335503",
     "exception": false,
     "start_time": "2025-03-15T21:04:20.322991",
     "status": "completed"
    },
    "tags": []
   },
   "source": [
    "---\n",
    "\n",
    "\n",
    "\n",
    "\n",
    "*Have questions or comments? Visit the [course discussion forum](https://www.kaggle.com/learn/data-visualization/discussion) to chat with other learners.*"
   ]
  }
 ],
 "metadata": {
  "kaggle": {
   "accelerator": "none",
   "dataSources": [
    {
     "datasetId": 116573,
     "sourceId": 334386,
     "sourceType": "datasetVersion"
    }
   ],
   "isGpuEnabled": false,
   "isInternetEnabled": false,
   "language": "python",
   "sourceType": "notebook"
  },
  "kernelspec": {
   "display_name": "Python 3",
   "language": "python",
   "name": "python3"
  },
  "language_info": {
   "codemirror_mode": {
    "name": "ipython",
    "version": 3
   },
   "file_extension": ".py",
   "mimetype": "text/x-python",
   "name": "python",
   "nbconvert_exporter": "python",
   "pygments_lexer": "ipython3",
   "version": "3.10.12"
  },
  "papermill": {
   "default_parameters": {},
   "duration": 9.321821,
   "end_time": "2025-03-15T21:04:21.069403",
   "environment_variables": {},
   "exception": null,
   "input_path": "__notebook__.ipynb",
   "output_path": "__notebook__.ipynb",
   "parameters": {},
   "start_time": "2025-03-15T21:04:11.747582",
   "version": "2.6.0"
  }
 },
 "nbformat": 4,
 "nbformat_minor": 5
}
